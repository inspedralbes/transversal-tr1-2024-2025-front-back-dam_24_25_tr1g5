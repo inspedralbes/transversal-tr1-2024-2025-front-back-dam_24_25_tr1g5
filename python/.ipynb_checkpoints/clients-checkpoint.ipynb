{
 "cells": [
  {
   "cell_type": "code",
   "execution_count": 7,
   "id": "4b2529e5-5e53-4075-be4b-e71f64cf06b8",
   "metadata": {},
   "outputs": [
    {
     "name": "stdout",
     "output_type": "stream",
     "text": [
      "Promedio de dinero gastado por cliente:\n",
      "   userId  Diners_per_Venda\n",
      "0       1         75.980000\n",
      "1       2         89.990000\n",
      "2       3         70.980000\n",
      "3       5        124.633333\n"
     ]
    }
   ],
   "source": [
    "import requests\n",
    "import pandas as pd\n",
    "\n",
    "BASE_URL = \"http://name.tr1-g5.dam.inspedralbes.cat:21787\"  # Reemplaza <port> con el puerto correcto donde corre tu servidor\n",
    "\n",
    "def obtener_detalles_clientes():\n",
    "    \"\"\"\n",
    "    Obtiene los detalles de los clientes desde la API y retorna un DataFrame con el nombre y apellido de cada cliente.\n",
    "    \"\"\"\n",
    "    # Realiza la solicitud GET para obtener todos los usuarios\n",
    "    response = requests.get(f\"{BASE_URL}/user\")\n",
    "    if response.status_code != 200:\n",
    "        print(\"Error al obtener los usuarios:\", response.text)\n",
    "        return None\n",
    "    \n",
    "    # Convertir la respuesta a un DataFrame\n",
    "    users = response.json()\n",
    "    user_df = pd.DataFrame(users)\n",
    "    \n",
    "    # Extraer los nombres completos (nombre + apellido) en una nueva columna\n",
    "    user_df['Clients'] = user_df['firstName'] + ' ' + user_df['lastName']\n",
    "    \n",
    "    return user_df[['id', 'Clients']]  # Solo devolver id y el nombre completo\n",
    "\n",
    "def obtener_promedio_diners_venta():\n",
    "    \"\"\"\n",
    "    Obtiene los pedidos y calcula el promedio de dinero gastado por cliente, además agrega las columnas solicitadas.\n",
    "    \"\"\"\n",
    "    # Realiza la solicitud GET para obtener todos los pedidos\n",
    "    response = requests.get(f\"{BASE_URL}/orders\")\n",
    "    if response.status_code != 200:\n",
    "        print(\"Error al obtener los pedidos:\", response.text)\n",
    "        return\n",
    "    \n",
    "    # Convertir la respuesta a un DataFrame\n",
    "    orders = response.json()\n",
    "    df_orders = pd.DataFrame(orders)\n",
    "    \n",
    "    # Asegurarse de que la columna 'total' sea numérica\n",
    "    df_orders['Diners'] = pd.to_numeric(df_orders['Diners'], errors='coerce')  # 'coerce' convierte los valores no numéricos a NaN\n",
    "    \n",
    "    # Eliminar filas con NaN en la columna 'total'\n",
    "    df_orders = df_orders.dropna(subset=['Diners'])\n",
    "    \n",
    "    # Calcular el total de dinero gastado y el número de ventas por cliente\n",
    "    df_sales = df_orders.groupby('userId').agg(\n",
    "        Diners_per_Venda=('Diners', 'sum'),   # Total de dinero gastado\n",
    "        Ventas=('Diners', 'count')            # Número de ventas\n",
    "    ).reset_index()\n",
    "    \n",
    "    # Obtener detalles de los clientes (nombre completo)\n",
    "    user_df = obtener_detalles_clientes()\n",
    "    \n",
    "    # Unir los datos de ventas con los detalles de los clientes\n",
    "    df_sales = df_sales.merge(user_df, how='left', left_on='userId', right_on='id')\n",
    "    \n",
    "    # Eliminar la columna 'id' que ya no es necesaria\n",
    "    df_sales = df_sales.drop(columns=['id'])\n",
    "    \n",
    "    # Agregar la columna de moneda\n",
    "    df_sales['Moneda'] = '€'\n",
    "    \n",
    "    print(\"Datos de ventas por cliente:\")\n",
    "    print(df_sales)\n",
    "    \n",
    "    return df_sales\n",
    "\n",
    "# Ejecutar la función y mostrar el DataFrame\n",
    "df_promedio = obtener_promedio_diners_venta()\n"
   ]
  },
  {
   "cell_type": "code",
   "execution_count": null,
   "id": "b1cbc775-c277-4bbb-aed5-94edf789c640",
   "metadata": {},
   "outputs": [],
   "source": []
  },
  {
   "cell_type": "code",
   "execution_count": null,
   "id": "351d595b-9a2b-4f96-9714-9f0c5012199f",
   "metadata": {},
   "outputs": [],
   "source": []
  }
 ],
 "metadata": {
  "kernelspec": {
   "display_name": "Python 3 (ipykernel)",
   "language": "python",
   "name": "python3"
  },
  "language_info": {
   "codemirror_mode": {
    "name": "ipython",
    "version": 3
   },
   "file_extension": ".py",
   "mimetype": "text/x-python",
   "name": "python",
   "nbconvert_exporter": "python",
   "pygments_lexer": "ipython3",
   "version": "3.12.6"
  }
 },
 "nbformat": 4,
 "nbformat_minor": 5
}
