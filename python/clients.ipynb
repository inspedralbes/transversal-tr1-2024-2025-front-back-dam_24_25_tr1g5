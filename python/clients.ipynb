{
 "cells": [
  {
   "cell_type": "code",
   "execution_count": null,
   "id": "4b2529e5-5e53-4075-be4b-e71f64cf06b8",
   "metadata": {},
   "outputs": [
    {
     "name": "stdout",
     "output_type": "stream",
     "text": [
      "\n",
      "Datos de ventas por cliente:\n",
      "   ID      Clients  Ventas  Diners  Diners/Venda Moneda\n",
      "0  01     John Doe       1   75.98         75.98      €\n",
      "1  02   Jane Smith       1   89.99         89.99      €\n",
      "2  03  Alice Brown       1   70.98         70.98      €\n",
      "3  05          a a       3  373.90        124.63      €\n"
     ]
    }
   ],
   "source": [
    "import os\n",
    "from dotenv import load_dotenv\n",
    "import requests\n",
    "import pandas as pd\n",
    "import json\n",
    "\n",
    "# Cargar las variables de entorno desde el archivo .env\n",
    "load_dotenv()\n",
    "\n",
    "# Acceder a la variable de entorno PYTHON_URL_BACK\n",
    "PYTHON_URL_BACK = os.getenv(\"PYTHON_URL_BACK\")\n",
    "\n",
    "def obtener_detalles_clientes():\n",
    "    response = requests.get(f\"{PYTHON_URL_BACK}/user\")\n",
    "    if response.status_code != 200:\n",
    "        return None\n",
    "    \n",
    "    users = response.json()\n",
    "    user_df = pd.DataFrame(users)\n",
    "    user_df['full_name'] = user_df['firstName'] + ' ' + user_df['lastName']\n",
    "    \n",
    "    return user_df[['id', 'full_name']]\n",
    "\n",
    "def obtener_promedio_diners_venta():\n",
    "    response = requests.get(f\"{PYTHON_URL_BACK}/orders\")\n",
    "    if response.status_code != 200:\n",
    "        return []\n",
    "    \n",
    "    orders = response.json()\n",
    "    df_orders = pd.DataFrame(orders)\n",
    "    \n",
    "    df_orders['total'] = pd.to_numeric(df_orders['total'], errors='coerce')\n",
    "    df_orders = df_orders.dropna(subset=['total'])\n",
    "    \n",
    "    df_sales = df_orders.groupby('userId').agg(\n",
    "        Diners_per_Venda=('total', 'mean'),\n",
    "        Ventas=('total', 'count'),\n",
    "        Total_gastado=('total', 'sum')\n",
    "    ).reset_index()\n",
    "    \n",
    "    df_sales['Diners_per_Venda'] = df_sales['Diners_per_Venda'].round(2)\n",
    "    \n",
    "    user_df = obtener_detalles_clientes()\n",
    "    \n",
    "    df_sales = df_sales.merge(user_df, how='left', left_on='userId', right_on='id')\n",
    "    df_sales = df_sales.drop(columns=['id'])\n",
    "    \n",
    "    df_sales['Moneda'] = '€'\n",
    "    df_sales['ID'] = df_sales['userId'].apply(lambda x: f\"{x:02d}\" if x < 10 else str(x))\n",
    "    \n",
    "    df_sales = df_sales[['ID', 'full_name', 'Ventas', 'Total_gastado', 'Diners_per_Venda', 'Moneda']]\n",
    "    df_sales.columns = ['ID', 'Clients', 'Ventas', 'Diners', 'Diners/Venda', 'Moneda']\n",
    "    \n",
    "    return df_sales.to_dict('records')\n",
    "\n",
    "if __name__ == \"__main__\":\n",
    "    resultado = obtener_promedio_diners_venta()\n",
    "    print(json.dumps(resultado))"
   ]
  },
  {
   "cell_type": "code",
   "execution_count": null,
   "id": "b1cbc775-c277-4bbb-aed5-94edf789c640",
   "metadata": {},
   "outputs": [],
   "source": []
  },
  {
   "cell_type": "code",
   "execution_count": null,
   "id": "351d595b-9a2b-4f96-9714-9f0c5012199f",
   "metadata": {},
   "outputs": [],
   "source": []
  }
 ],
 "metadata": {
  "kernelspec": {
   "display_name": "Python 3 (ipykernel)",
   "language": "python",
   "name": "python3"
  },
  "language_info": {
   "codemirror_mode": {
    "name": "ipython",
    "version": 3
   },
   "file_extension": ".py",
   "mimetype": "text/x-python",
   "name": "python",
   "nbconvert_exporter": "python",
   "pygments_lexer": "ipython3",
   "version": "3.12.7"
  }
 },
 "nbformat": 4,
 "nbformat_minor": 5
}
